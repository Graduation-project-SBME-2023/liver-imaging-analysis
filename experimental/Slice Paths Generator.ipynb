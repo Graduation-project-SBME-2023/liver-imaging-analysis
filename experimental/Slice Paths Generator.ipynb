{
  "nbformat": 4,
  "nbformat_minor": 0,
  "metadata": {
    "colab": {
      "provenance": []
    },
    "kernelspec": {
      "name": "python3",
      "display_name": "Python 3"
    },
    "language_info": {
      "name": "python"
    }
  },
  "cells": [
    {
      "cell_type": "code",
      "execution_count": 1,
      "metadata": {
        "colab": {
          "base_uri": "https://localhost:8080/"
        },
        "id": "xMxISVWdiemc",
        "outputId": "294f1465-f1e6-40ed-93f8-14373302c505"
      },
      "outputs": [
        {
          "output_type": "stream",
          "name": "stdout",
          "text": [
            "Drive already mounted at /content/drive; to attempt to forcibly remount, call drive.mount(\"/content/drive\", force_remount=True).\n"
          ]
        }
      ],
      "source": [
        "from google.colab import drive \n",
        "drive.mount('/content/drive')"
      ]
    },
    {
      "cell_type": "code",
      "source": [
        "import natsort\n",
        "import os\n",
        "import nibabel as nib\n",
        "\n",
        "def slices_paths_generator(volume_folder,mask_folder,volume_text_path,mask_text_path):\n",
        "  volume_text_file = open(volume_text_path, \"w\")\n",
        "  mask_text_file = open(mask_text_path, \"w\")\n",
        "  volumes=natsort.natsorted([volume_folder+ volume_file for volume_file in os.listdir(volume_folder)])\n",
        "  masks=natsort.natsorted([mask_folder+ mask_file for mask_file in os.listdir(mask_folder)])\n",
        "  volume_slices_paths=[]\n",
        "  mask_slices_paths=[]\n",
        "  for i in range (len(volumes)):\n",
        "    slices=nib.load(volumes[i]).get_fdata().shape[2]\n",
        "    for j in range(slices):\n",
        "      volume_text_file.write(volumes[i].split(\".\")[0]+\"_\"+str(j)+\".\"+volumes[i].split(\".\")[1]+\"\\n\")\n",
        "      mask_text_file.write(masks[i].split(\".\")[0]+\"_\"+str(j)+\".\"+masks[i].split(\".\")[1]+\"\\n\")"
      ],
      "metadata": {
        "id": "r-zpPdlHoPLU"
      },
      "execution_count": 2,
      "outputs": []
    },
    {
      "cell_type": "code",
      "source": [
        "slices_paths_generator(\n",
        "    \"/content/drive/MyDrive/LiTS_Cropped/Train/volume/\",\n",
        "    \"/content/drive/MyDrive/LiTS_Cropped/Train/mask/\",\n",
        "    \"train_volumes.txt\",\n",
        "    'train_masks.txt'\n",
        "    )\n",
        "slices_paths_generator(\n",
        "    \"/content/drive/MyDrive/LiTS_Cropped/Test/volume/\",\n",
        "    \"/content/drive/MyDrive/LiTS_Cropped/Test/mask/\",\n",
        "    \"test_volumes.txt\",\n",
        "    'test_masks.txt'\n",
        "    )"
      ],
      "metadata": {
        "id": "3PL99sBFo6Xt"
      },
      "execution_count": null,
      "outputs": []
    },
    {
      "cell_type": "code",
      "source": [
        "def slices_paths_reader(volume_text_path,mask_text_path):\n",
        "  # empty list to read list from a file\n",
        "  volume_paths = []\n",
        "  mask_paths = []\n",
        "  # open file and read the content in a list\n",
        "  with open(volume_text_path, 'r') as fp:\n",
        "      for line in fp:\n",
        "          # remove linebreak from a current name\n",
        "          # linebreak is the last character of each line\n",
        "          x = line[:-1]\n",
        "          # add current item to the list\n",
        "          volume_paths.append(x)\n",
        "  with open(mask_text_path, 'r') as fp:\n",
        "      for line in fp:\n",
        "          x = line[:-1]\n",
        "          mask_paths.append(x)\n",
        "  return volume_paths,mask_paths\n"
      ],
      "metadata": {
        "id": "UdLVgVlJtoBt"
      },
      "execution_count": 3,
      "outputs": []
    },
    {
      "cell_type": "code",
      "source": [
        "train_volume_paths,train_mask_paths = slices_paths_reader(\"train_volumes.txt\",'train_masks.txt')\n",
        "test_volume_paths, test_mask_paths = slices_paths_reader(\"test_volumes.txt\",'test_masks.txt')"
      ],
      "metadata": {
        "id": "WNnIeQmruukm"
      },
      "execution_count": 7,
      "outputs": []
    }
  ]
}