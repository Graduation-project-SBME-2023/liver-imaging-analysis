{
  "cells": [
    {
      "cell_type": "code",
      "execution_count": 1,
      "metadata": {
        "colab": {
          "base_uri": "https://localhost:8080/"
        },
        "id": "xMxISVWdiemc",
        "outputId": "294f1465-f1e6-40ed-93f8-14373302c505"
      },
      "outputs": [
        {
          "name": "stdout",
          "output_type": "stream",
          "text": [
            "Drive already mounted at /content/drive; to attempt to forcibly remount, call drive.mount(\"/content/drive\", force_remount=True).\n"
          ]
        }
      ],
      "source": [
        "from google.colab import drive \n",
        "drive.mount('/content/drive')"
      ]
    },
    {
      "cell_type": "code",
      "execution_count": 1,
      "metadata": {
        "id": "r-zpPdlHoPLU"
      },
      "outputs": [],
      "source": [
        "import natsort\n",
        "import os\n",
        "import nibabel as nib\n",
        "\n",
        "def slices_paths_generator(volume_folder,mask_folder,volume_text_path,mask_text_path):\n",
        "  volume_text_file = open(volume_text_path, \"w\")\n",
        "  mask_text_file = open(mask_text_path, \"w\")\n",
        "  volumes=natsort.natsorted([volume_folder+ volume_file for volume_file in os.listdir(volume_folder)])\n",
        "  masks=natsort.natsorted([mask_folder+ mask_file for mask_file in os.listdir(mask_folder)])\n",
        "  volume_slices_paths=[]\n",
        "  mask_slices_paths=[]\n",
        "  for i in range (len(volumes)):\n",
        "    slices=nib.load(volumes[i]).get_fdata().shape[2]\n",
        "    for j in range(slices):\n",
        "      volume_text_file.write(volumes[i].split(\".\")[0]+\"_\"+str(j)+\".\"+volumes[i].split(\".\")[1]+\"\\n\")\n",
        "      mask_text_file.write(masks[i].split(\".\")[0]+\"_\"+str(j)+\".\"+masks[i].split(\".\")[1]+\"\\n\")"
      ]
    },
    {
      "cell_type": "code",
      "execution_count": 3,
      "metadata": {
        "id": "3PL99sBFo6Xt"
      },
      "outputs": [],
      "source": [
        "slices_paths_generator(\n",
        "    \"C:/dataset/volume/\",\n",
        "    \"C:/dataset/mask/\",\n",
        "    \"volumes.txt\",\n",
        "    'masks.txt'\n",
        "    )\n",
        "# slices_paths_generator(\n",
        "#     \"/content/drive/MyDrive/LiTS_Cropped/Test/volume/\",\n",
        "#     \"/content/drive/MyDrive/LiTS_Cropped/Test/mask/\",\n",
        "#     \"test_volumes.txt\",\n",
        "#     'test_masks.txt'\n",
        "#     )"
      ]
    },
    {
      "cell_type": "code",
      "execution_count": 3,
      "metadata": {
        "id": "UdLVgVlJtoBt"
      },
      "outputs": [],
      "source": [
        "def slices_paths_reader(volume_text_path,mask_text_path):\n",
        "  # empty list to read list from a file\n",
        "  volume_paths = []\n",
        "  mask_paths = []\n",
        "  # open file and read the content in a list\n",
        "  with open(volume_text_path, 'r') as fp:\n",
        "      for line in fp:\n",
        "          # remove linebreak from a current name\n",
        "          # linebreak is the last character of each line\n",
        "          x = line[:-1]\n",
        "          # add current item to the list\n",
        "          volume_paths.append(x)\n",
        "  with open(mask_text_path, 'r') as fp:\n",
        "      for line in fp:\n",
        "          x = line[:-1]\n",
        "          mask_paths.append(x)\n",
        "  return volume_paths,mask_paths\n"
      ]
    },
    {
      "cell_type": "code",
      "execution_count": 7,
      "metadata": {
        "id": "WNnIeQmruukm"
      },
      "outputs": [],
      "source": [
        "train_volume_paths,train_mask_paths = slices_paths_reader(\"train_volumes.txt\",'train_masks.txt')\n",
        "test_volume_paths, test_mask_paths = slices_paths_reader(\"test_volumes.txt\",'test_masks.txt')"
      ]
    }
  ],
  "metadata": {
    "colab": {
      "provenance": []
    },
    "kernelspec": {
      "display_name": "Python 3",
      "language": "python",
      "name": "python3"
    },
    "language_info": {
      "codemirror_mode": {
        "name": "ipython",
        "version": 3
      },
      "file_extension": ".py",
      "mimetype": "text/x-python",
      "name": "python",
      "nbconvert_exporter": "python",
      "pygments_lexer": "ipython3",
      "version": "3.10.1"
    },
    "vscode": {
      "interpreter": {
        "hash": "369f2c481f4da34e4445cda3fffd2e751bd1c4d706f27375911949ba6bb62e1c"
      }
    }
  },
  "nbformat": 4,
  "nbformat_minor": 0
}
