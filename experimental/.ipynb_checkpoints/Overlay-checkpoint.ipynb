{
 "cells": [
  {
   "cell_type": "code",
   "execution_count": 8,
   "metadata": {},
   "outputs": [],
   "source": [
    "import nibabel as nib\n",
    "import numpy as np\n",
    "import matplotlib.pyplot as plt\n",
    "import cv2 as cv\n",
    "from matplotlib import animation, rc\n",
    "from matplotlib.animation import PillowWriter\n",
    "rc('animation', html='html5')\n",
    "\n",
    "\n",
    "\"\"\"\"\n",
    "    A module that display the original CT volume and the segmented mask and its labels\n",
    "    with different color and opacity on it and saves the overlay into a gif file\n",
    "\n",
    "    Methods:\n",
    "        grayToColored: changes the input nfti from 3 channels gray scale ( L , W , N) to 4 channels RGB ( L , W , N , 3)\n",
    "        by stacking the volume array and perform weighted add to put the segmented mask over the volume in one array\n",
    "            Args:   Volume Path: the directory that includes the volume nii file\n",
    "                    Mask Path: the directory that includes the segmented mask nii file\n",
    "                    alpha: the opacity of the displayed mask\n",
    "            Return: The Stacked 4 channels array of the nfti input\n",
    "\n",
    "        normalize: normalize the input value to be in range 0:255\n",
    "\n",
    "        animate: create the animated overlay and saves it as GIF\n",
    "            Args: volume: the required array input to be animated\n",
    "                  volumename: the name of the output gif file to be saved\n",
    "\n",
    "\"\"\"\n"
   ]
  },
  {
   "cell_type": "code",
   "execution_count": 1,
   "metadata": {},
   "outputs": [],
   "source": [
    "def grayToColored (VolumePath,MaskPath,alpha=0.2):\n",
    "    def normalize(arr):\n",
    "        return (255*(arr - np.min(arr)) / (np.max(arr) - np.min(arr)))\n",
    "\n",
    "    Volume = nib.load(VolumePath).get_fdata()\n",
    "    Mask = nib.load(MaskPath).get_fdata()\n",
    "    Masklabel=[]\n",
    "    masksNo=np.unique(Mask)[1:]\n",
    "    dest=np.stack((normalize(Volume).astype(np.uint8),)*3,axis=-1) # stacked array of volume\n",
    "\n",
    "    if masksNo.shape[0]<7:  # a loop to generate an array of unique rgb colors to be used for each label \n",
    "        numbers=[0,1]\n",
    "    else:\n",
    "        numbers=[0,0.5,1]\n",
    "    colors=[]\n",
    "    for i in numbers:\n",
    "        for j in numbers:\n",
    "            for k in numbers:\n",
    "                if(i==j==k):\n",
    "                    continue\n",
    "                colors.append([i,j,k])\n",
    "                \n",
    "    colors= np.asarray((colors))\n",
    "    for i,label in enumerate(masksNo):     # a loop to iterate over each label in the mask and perform weighted add for each\n",
    "                                            # label with a unique color for each one\n",
    "        Masklabel.append(Mask==label)\n",
    "        Masklabel[i]=np.stack((Masklabel[i],)*3,axis=-1)\n",
    "        Masklabel[i]=np.multiply((Masklabel[i].astype(np.uint8)*255),colors[i]).astype(np.uint8)\n",
    "        dest = cv.addWeighted(dest, 1, Masklabel[i],alpha, 0.0)\n",
    "    return dest              # return an array of the volume with the mask overlayed on it with different label colors\n",
    "\n",
    "\n",
    "\n",
    "def animate(volume,outputName):\n",
    "    fig = plt.figure()\n",
    "    ims = []\n",
    "    for i in range(volume.shape[2]):      # generate an animation over the slices of the array \n",
    "        plt.axis('off')\n",
    "        im = plt.imshow(volume[:,:,i],animated=True);\n",
    "        ims.append([im])\n",
    "\n",
    "    ani = animation.ArtistAnimation(fig, ims, interval=200, blit=True,\n",
    "                                    repeat_delay=100)\n",
    "    ani.save(outputName, dpi=300, writer=PillowWriter(fps=5))\n",
    "\n",
    "\n"
   ]
  },
  {
   "cell_type": "code",
   "execution_count": 3,
   "metadata": {},
   "outputs": [],
   "source": [
    "\n",
    "volume=grayToColored('C:/dataset/Path/liver-orig002.nii','C:/dataset/Path2/liver-seg002.nii')\n",
    "animate(volume,'Vol_Mask_Overlay.gif')"
   ]
  }
 ],
 "metadata": {
  "kernelspec": {
   "display_name": "Python 3",
   "language": "python",
   "name": "python3"
  },
  "language_info": {
   "codemirror_mode": {
    "name": "ipython",
    "version": 3
   },
   "file_extension": ".py",
   "mimetype": "text/x-python",
   "name": "python",
   "nbconvert_exporter": "python",
   "pygments_lexer": "ipython3",
   "version": "3.8.3"
  },
  "vscode": {
   "interpreter": {
    "hash": "1ef2af15255169531a06c842966204fd31cb89956011d167f4fe0d908cc67114"
   }
  }
 },
 "nbformat": 4,
 "nbformat_minor": 4
}
