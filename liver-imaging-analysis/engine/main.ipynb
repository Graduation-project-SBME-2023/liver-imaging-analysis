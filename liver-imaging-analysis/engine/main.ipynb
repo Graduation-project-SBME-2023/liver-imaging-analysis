{
  "cells": [
    {
      "cell_type": "code",
      "execution_count": null,
      "metadata": {
        "colab": {
          "base_uri": "https://localhost:8080/"
        },
        "id": "7MqM5G59bEsX",
        "outputId": "5ef6e58b-8b5d-48b2-9560-04d31b685b02"
      },
      "outputs": [],
      "source": [
        "# from google.colab import drive\n",
        "# drive.mount('/content/drive/')"
      ]
    },
    {
      "cell_type": "code",
      "execution_count": null,
      "metadata": {
        "id": "kBaDMI4jbzih"
      },
      "outputs": [],
      "source": [
        "# import sys\n",
        "# import os\n",
        "# py_file_location = \"/content/drive/MyDrive/liver-imaging-analysis/engine\"\n",
        "# sys.path.append(os.path.abspath(py_file_location))\n",
        "# !pip install monai\n",
        "# !pip install -U scikit-image\n",
        "\n"
      ]
    },
    {
      "cell_type": "code",
      "execution_count": null,
      "metadata": {},
      "outputs": [],
      "source": [
        "!pip install torchvision\n",
        "!pip install torch\n",
        "!pip install matplotlib\n",
        "!pip install monai\n",
        "!pip install nibabel\n",
        "!pip install -U scikit-learn scipy matplotlib\n",
        "!pip install -U numpy \n"
      ]
    },
    {
      "cell_type": "code",
      "execution_count": null,
      "metadata": {},
      "outputs": [],
      "source": [
        "import torch"
      ]
    },
    {
      "cell_type": "code",
      "execution_count": 1,
      "metadata": {
        "colab": {
          "base_uri": "https://localhost:8080/"
        },
        "id": "aW_HEcfAb9ni",
        "outputId": "6f6f31c0-839a-43c9-d9c3-3296811201a1"
      },
      "outputs": [
        {
          "name": "stderr",
          "output_type": "stream",
          "text": [
            "c:\\Users\\Tarek\\AppData\\Local\\Programs\\Python\\Python310\\lib\\site-packages\\tqdm\\auto.py:22: TqdmWarning: IProgress not found. Please update jupyter and ipywidgets. See https://ipywidgets.readthedocs.io/en/stable/user_install.html\n",
            "  from .autonotebook import tqdm as notebook_tqdm\n"
          ]
        },
        {
          "name": "stdout",
          "output_type": "stream",
          "text": [
            "D:/Data/\n",
            "\n",
            "Data Status\n",
            "-------------------------------\n",
            "volume path: D:/Data/volume\\volume-4.nii mask path: D:/Data/mask\\segmentation-4.nii\n",
            "Batch Shape of Training Features: (1, 1, 64, 64, 32) torch.float32\n",
            "Batch Shape of Training Labels: (1, 1, 64, 64, 32) torch.float32\n",
            "volume path: D:/Data/volume\\volume-4.nii mask path: D:/Data/mask\\segmentation-4.nii\n",
            "Batch Shape of Testing Features: (1, 1, 64, 64, 32) torch.float32\n",
            "Batch Shape of Testing Labels: (1, 1, 64, 64, 32) torch.float32\n",
            "Used Device: cpu\n",
            "\n",
            "Training\n",
            "-------------------------------\n",
            "Epoch 1\n",
            "-------------------------------\n",
            "volume path: D:/Data/volume\\volume-4.nii mask path: D:/Data/mask\\segmentation-4.nii\n",
            "loss: 0.999585        [    1/    4]\n",
            "volume path: D:/Data/volume\\volume-5.nii mask path: D:/Data/mask\\segmentation-5.nii\n",
            "loss: 0.695747        [    2/    4]\n",
            "volume path: D:/Data/volume\\volume-6.nii mask path: D:/Data/mask\\segmentation-6.nii\n",
            "loss: 0.530329        [    3/    4]\n",
            "volume path: D:/Data/volume\\volume-7.nii mask path: D:/Data/mask\\segmentation-7.nii\n",
            "loss: 0.223644        [    4/    4]\n",
            "Epoch 2\n",
            "-------------------------------\n",
            "volume path: D:/Data/volume\\volume-4.nii mask path: D:/Data/mask\\segmentation-4.nii\n",
            "loss: 0.190417        [    1/    4]\n",
            "volume path: D:/Data/volume\\volume-5.nii mask path: D:/Data/mask\\segmentation-5.nii\n",
            "loss: 0.159808        [    2/    4]\n",
            "volume path: D:/Data/volume\\volume-6.nii mask path: D:/Data/mask\\segmentation-6.nii\n",
            "loss: 0.127800        [    3/    4]\n",
            "volume path: D:/Data/volume\\volume-7.nii mask path: D:/Data/mask\\segmentation-7.nii\n",
            "loss: 0.113207        [    4/    4]\n",
            "Epoch 3\n",
            "-------------------------------\n",
            "volume path: D:/Data/volume\\volume-4.nii mask path: D:/Data/mask\\segmentation-4.nii\n",
            "loss: 0.159754        [    1/    4]\n",
            "volume path: D:/Data/volume\\volume-5.nii mask path: D:/Data/mask\\segmentation-5.nii\n",
            "loss: 0.129876        [    2/    4]\n",
            "volume path: D:/Data/volume\\volume-6.nii mask path: D:/Data/mask\\segmentation-6.nii\n",
            "loss: 0.091261        [    3/    4]\n",
            "volume path: D:/Data/volume\\volume-7.nii mask path: D:/Data/mask\\segmentation-7.nii\n",
            "loss: 0.076608        [    4/    4]\n",
            "Epoch 4\n",
            "-------------------------------\n",
            "volume path: D:/Data/volume\\volume-4.nii mask path: D:/Data/mask\\segmentation-4.nii\n",
            "loss: 0.125270        [    1/    4]\n",
            "volume path: D:/Data/volume\\volume-5.nii mask path: D:/Data/mask\\segmentation-5.nii\n",
            "loss: 0.084274        [    2/    4]\n",
            "volume path: D:/Data/volume\\volume-6.nii mask path: D:/Data/mask\\segmentation-6.nii\n",
            "loss: 0.068776        [    3/    4]\n",
            "volume path: D:/Data/volume\\volume-7.nii mask path: D:/Data/mask\\segmentation-7.nii\n",
            "loss: 0.068198        [    4/    4]\n",
            "Epoch 5\n",
            "-------------------------------\n",
            "volume path: D:/Data/volume\\volume-4.nii mask path: D:/Data/mask\\segmentation-4.nii\n",
            "loss: 0.125894        [    1/    4]\n",
            "volume path: D:/Data/volume\\volume-5.nii mask path: D:/Data/mask\\segmentation-5.nii\n",
            "loss: 0.070301        [    2/    4]\n",
            "volume path: D:/Data/volume\\volume-6.nii mask path: D:/Data/mask\\segmentation-6.nii\n",
            "loss: 0.065293        [    3/    4]\n",
            "volume path: D:/Data/volume\\volume-7.nii mask path: D:/Data/mask\\segmentation-7.nii\n",
            "loss: 0.066775        [    4/    4]\n",
            "-------------------------------\n"
          ]
        }
      ],
      "source": [
        "import unet\n",
        "import nibabel\n",
        "import engine\n",
        "import torch\n",
        "import json\n",
        "from torch import nn\n",
        "import diceloss\n",
        "from torch.utils.tensorboard import SummaryWriter\n",
        "\n",
        "device = \"cuda\" if torch.cuda.is_available() else \"cpu\"\n",
        "# device= \"cpu\"\n",
        "class NeuralNetwork(unet.UNet3D,engine.Engine):\n",
        "    def __init__(self):\n",
        "        engine.Engine.__init__(self,device=device)        \n",
        "        unet.UNet3D.__init__(self,1,1,device=device)\n",
        "\n",
        "\n",
        "with open('configs.json') as f:\n",
        "    config = json.load(f)\n",
        "tb = SummaryWriter()\n",
        "\n",
        "model=NeuralNetwork().to(device)\n",
        "\n",
        "#losses.LossFunctions.choose(config['loss_function']\n",
        "#nn.BCEWithLogitsLoss()\n",
        "model.compile(loss=diceloss.DiceLoss(), optimizer= torch.optim.Adam(model.parameters(),lr=config['optimizer']['learning_rate']), metrics=['dice_score','loss'])\n",
        "# print(\"Compile Status\")\n",
        "# print(\"-------------------------------\")\n",
        "# model.compile_status()\n",
        "\n",
        "model.load_data(training_datasetPath=config['dataset']['training'],testing_datasetPath=config['dataset']['testing'],transformation_flag=True,\n",
        "                  transformation=config['transformation_size'],batchsize=config['batch_size'],test_valid_split=0)\n",
        "print(\"\\nData Status\")\n",
        "print(\"-------------------------------\")\n",
        "model.data_status()\n",
        "model.load_checkpoint(config['model checkpoint'])\n",
        "# model.load_state_dict(torch.load(\"C:/Users/Tarek/Documents/GitHub/liver-imaging-analysis/liver-imaging-analysis/engine/final epoch\",map_location=torch.device('cpu')))\n",
        "print(\"\\nTraining\")\n",
        "print(\"-------------------------------\")\n",
        "model.fit(epochs=config['epochs'])\n",
        "# print(\"\\nTesting\")\n",
        "\n",
        "print(\"-------------------------------\")\n",
        "\n",
        "# print(\"\\nPrediction\")\n",
        "# print(\"-------------------------------\")\n",
        "# ImagePath=config['ImagePath']\n",
        "# output=model.predict(ImagePath)\n",
        "# output.shape\n"
      ]
    },
    {
      "cell_type": "code",
      "execution_count": 3,
      "metadata": {
        "colab": {
          "base_uri": "https://localhost:8080/"
        },
        "id": "xd2QCRkVcV6h",
        "outputId": "47b824da-1793-4287-b96d-6c4a5959c9a4"
      },
      "outputs": [
        {
          "data": {
            "text/plain": [
              "[<matplotlib.lines.Line2D at 0x18d4d3cabf0>]"
            ]
          },
          "execution_count": 3,
          "metadata": {},
          "output_type": "execute_result"
        },
        {
          "data": {
            "image/png": "[encoded data removed]",
            "text/plain": [
              "<Figure size 640x480 with 1 Axes>"
            ]
          },
          "metadata": {},
          "output_type": "display_data"
        }
      ],
      "source": [
        "model.save_checkpoint(\"TESTT\")\n",
        "import matplotlib.pyplot as plt\n",
        "plt.plot(model.totalloss)"
      ]
    },
    {
      "cell_type": "code",
      "execution_count": 4,
      "metadata": {},
      "outputs": [
        {
          "name": "stdout",
          "output_type": "stream",
          "text": [
            "volume path: D:/Data/volume\\volume-4.nii mask path: D:/Data/mask\\segmentation-4.nii\n",
            "volume path: D:/Data/volume\\volume-5.nii mask path: D:/Data/mask\\segmentation-5.nii\n",
            "volume path: D:/Data/volume\\volume-6.nii mask path: D:/Data/mask\\segmentation-6.nii\n",
            "volume path: D:/Data/volume\\volume-7.nii mask path: D:/Data/mask\\segmentation-7.nii\n",
            "Test loss: 0.927520\n",
            "Test Dice Score: 0.072480\n"
          ]
        }
      ],
      "source": [
        "model.evaluate_test()"
      ]
    },
    {
      "cell_type": "code",
      "execution_count": null,
      "metadata": {},
      "outputs": [],
      "source": []
    }
  ],
  "metadata": {
    "accelerator": "GPU",
    "colab": {
      "provenance": []
    },
    "gpuClass": "standard",
    "kernelspec": {
      "display_name": "Python 3.10.1 64-bit",
      "language": "python",
      "name": "python3"
    },
    "language_info": {
      "codemirror_mode": {
        "name": "ipython",
        "version": 3
      },
      "file_extension": ".py",
      "mimetype": "text/x-python",
      "name": "python",
      "nbconvert_exporter": "python",
      "pygments_lexer": "ipython3",
      "version": "3.10.1"
    },
    "vscode": {
      "interpreter": {
        "hash": "60f38b465b4ade997603fa1c81d4c5b7ecf3a62a523ec595fe3d6f4efcae3a4f"
      }
    }
  },
  "nbformat": 4,
  "nbformat_minor": 0
}
