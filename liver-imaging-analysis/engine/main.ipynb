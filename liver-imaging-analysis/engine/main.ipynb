{
  "cells": [
    {
      "cell_type": "code",
      "execution_count": null,
      "metadata": {
        "colab": {
          "base_uri": "https://localhost:8080/"
        },
        "id": "7MqM5G59bEsX",
        "outputId": "5ef6e58b-8b5d-48b2-9560-04d31b685b02"
      },
      "outputs": [],
      "source": [
        "# from google.colab import drive\n",
        "# drive.mount('/content/drive/')"
      ]
    },
    {
      "cell_type": "code",
      "execution_count": null,
      "metadata": {
        "id": "kBaDMI4jbzih"
      },
      "outputs": [],
      "source": [
        "# import sys\n",
        "# import os\n",
        "# py_file_location = \"/content/drive/MyDrive/liver-imaging-analysis/engine\"\n",
        "# sys.path.append(os.path.abspath(py_file_location))\n",
        "# !pip install monai\n",
        "# !pip install -U scikit-image"
      ]
    },
    {
      "cell_type": "code",
      "execution_count": null,
      "metadata": {},
      "outputs": [],
      "source": [
        "# !pip install torchvision\n",
        "# !pip install torch\n",
        "# !pip install matplotlib\n",
        "# !pip install monai\n",
        "# !pip install nibabel\n",
        "# !pip install -U scikit-learn scipy matplotlib\n",
        "# !pip install -U numpy \n",
        "# !pip install tensorboard"
      ]
    },
    {
      "cell_type": "code",
      "execution_count": 3,
      "metadata": {
        "colab": {
          "base_uri": "https://localhost:8080/"
        },
        "id": "aW_HEcfAb9ni",
        "outputId": "6f6f31c0-839a-43c9-d9c3-3296811201a1"
      },
      "outputs": [
        {
          "name": "stderr",
          "output_type": "stream",
          "text": [
            "<>:31: SyntaxWarning: list indices must be integers or slices, not str; perhaps you missed a comma?\n",
            "<>:31: SyntaxWarning: list indices must be integers or slices, not str; perhaps you missed a comma?\n",
            "C:\\Users\\BMATM-2023\\AppData\\Local\\Temp\\ipykernel_11552\\1218133517.py:31: SyntaxWarning: list indices must be integers or slices, not str; perhaps you missed a comma?\n",
            "  metrics=['dice_score']['loss'])\n",
            "C:\\Users\\BMATM-2023\\AppData\\Local\\Temp\\ipykernel_11552\\1218133517.py:31: SyntaxWarning: list indices must be integers or slices, not str; perhaps you missed a comma?\n",
            "  metrics=['dice_score']['loss'])\n",
            "C:\\Users\\BMATM-2023\\AppData\\Local\\Temp\\ipykernel_11552\\1218133517.py:31: SyntaxWarning: list indices must be integers or slices, not str; perhaps you missed a comma?\n",
            "  metrics=['dice_score']['loss'])\n",
            "C:\\Users\\BMATM-2023\\AppData\\Local\\Temp\\ipykernel_11552\\1218133517.py:31: SyntaxWarning: list indices must be integers or slices, not str; perhaps you missed a comma?\n",
            "  metrics=['dice_score']['loss'])\n",
            "C:\\Users\\BMATM-2023\\AppData\\Local\\Temp\\ipykernel_11552\\1218133517.py:31: SyntaxWarning: list indices must be integers or slices, not str; perhaps you missed a comma?\n",
            "  metrics=['dice_score']['loss'])\n"
          ]
        },
        {
          "ename": "TypeError",
          "evalue": "list indices must be integers or slices, not str",
          "output_type": "error",
          "traceback": [
            "\u001b[1;31m---------------------------------------------------------------------------\u001b[0m",
            "\u001b[1;31mTypeError\u001b[0m                                 Traceback (most recent call last)",
            "Cell \u001b[1;32mIn[3], line 31\u001b[0m\n\u001b[0;32m     25\u001b[0m model\u001b[39m=\u001b[39mNeuralNetwork()\u001b[39m.\u001b[39mto(device)\n\u001b[0;32m     27\u001b[0m \u001b[39m#Choose loss function, optimizer, and metrics\u001b[39;00m\n\u001b[0;32m     28\u001b[0m model\u001b[39m.\u001b[39mcompile(loss\u001b[39m=\u001b[39mdiceloss\u001b[39m.\u001b[39mDiceLoss(),\\\n\u001b[0;32m     29\u001b[0m               optimizer\u001b[39m=\u001b[39m torch\u001b[39m.\u001b[39moptim\u001b[39m.\u001b[39mAdam(model\u001b[39m.\u001b[39mparameters(),\\\n\u001b[0;32m     30\u001b[0m               lr\u001b[39m=\u001b[39mconfig[\u001b[39m'\u001b[39m\u001b[39moptimizer\u001b[39m\u001b[39m'\u001b[39m][\u001b[39m'\u001b[39m\u001b[39mlearning_rate\u001b[39m\u001b[39m'\u001b[39m]),\\\n\u001b[1;32m---> 31\u001b[0m               metrics\u001b[39m=\u001b[39m[\u001b[39m'\u001b[39;49m\u001b[39mdice_score\u001b[39;49m\u001b[39m'\u001b[39;49m][\u001b[39m'\u001b[39;49m\u001b[39mloss\u001b[39;49m\u001b[39m'\u001b[39;49m])\n\u001b[0;32m     33\u001b[0m \u001b[39m#Print loss function, optimizer, and metrics\u001b[39;00m\n\u001b[0;32m     34\u001b[0m \u001b[39mprint\u001b[39m(\u001b[39m\"\u001b[39m\u001b[39mCompile Status\u001b[39m\u001b[39m\"\u001b[39m)\n",
            "\u001b[1;31mTypeError\u001b[0m: list indices must be integers or slices, not str"
          ]
        }
      ],
      "source": [
        "import unet\n",
        "import nibabel\n",
        "import engine\n",
        "import torch\n",
        "import json\n",
        "from torch import nn\n",
        "import diceloss\n",
        "\n",
        "\n",
        "#Run on GPU if available\n",
        "device = \"cuda\" if torch.cuda.is_available() else \"cpu\"\n",
        "\n",
        "#A class that adds Engine methods to the model\n",
        "class NeuralNetwork(unet.UNet3D,engine.Engine):\n",
        "    def __init__(self):\n",
        "        engine.Engine.__init__(self,device=device)        \n",
        "        unet.UNet3D.__init__(self,1,1,device=device)\n",
        "\n",
        "#Read configurations from JSON File\n",
        "with open('../config/configs.json') as f:\n",
        "    config = json.load(f)\n",
        "\n",
        "\n",
        "#Instance from the Model\n",
        "model=NeuralNetwork().to(device)\n",
        "\n",
        "#Choose loss function, optimizer, and metrics\n",
        "model.compile(loss=diceloss.DiceLoss(),\\\n",
        "              optimizer= torch.optim.Adam(model.parameters(),\\\n",
        "              lr=config['optimizer']['learning_rate']),\\\n",
        "              metrics=['dice_score','loss'])\n",
        "\n",
        "#Print loss function, optimizer, and metrics\n",
        "print(\"Compile Status\")\n",
        "print(\"-------------------------------\")\n",
        "model.compile_status()\n",
        "\n",
        "#Load Dataset\n",
        "model.load_data(training_data_path=config['dataset']['training'],\\\n",
        "                testing_data_path=config['dataset']['testing'],\\\n",
        "                transformation_flag=True,\\\n",
        "                transformation=config['transformation_size'],\\\n",
        "                batchsize=config['batch_size'],test_valid_split=0)\n",
        "\n",
        "#Print Dataset Shape\n",
        "print(\"\\nData Status\")\n",
        "print(\"-------------------------------\")\n",
        "model.data_status()\n",
        "\n",
        "#Load Stored Checkpoint\n",
        "# model.load_checkpoint(config['model checkpoint'])\n",
        "\n",
        "#Start Fitting\n",
        "print(\"\\nTraining\")\n",
        "print(\"-------------------------------\")\n",
        "model.fit(epochs=config['epochs'])\n",
        "\n",
        "# #Test model on testing set\n",
        "# print(\"\\nTesting\")\n",
        "# model.evaluate_test()\n",
        "# print(\"-------------------------------\")\n",
        "\n",
        "#Predict mask for a single volume\n",
        "# print(\"\\nPrediction\")\n",
        "# print(\"-------------------------------\")\n",
        "# ImagePath=config['ImagePath']\n",
        "# output=model.predict(ImagePath)\n",
        "# output.shape\n"
      ]
    },
    {
      "cell_type": "code",
      "execution_count": null,
      "metadata": {
        "colab": {
          "base_uri": "https://localhost:8080/"
        },
        "id": "xd2QCRkVcV6h",
        "outputId": "47b824da-1793-4287-b96d-6c4a5959c9a4"
      },
      "outputs": [],
      "source": [
        "model.save_checkpoint(\"TESTT\")\n",
        "import matplotlib.pyplot as plt\n",
        "plt.plot(model.totalloss)"
      ]
    },
    {
      "cell_type": "code",
      "execution_count": null,
      "metadata": {},
      "outputs": [],
      "source": [
        "model.evaluate_test()"
      ]
    },
    {
      "cell_type": "code",
      "execution_count": null,
      "metadata": {},
      "outputs": [],
      "source": [
        "#Predict mask for a single volume\n",
        "import matplotlib.pyplot as plt\n",
        "print(\"\\nPrediction\")\n",
        "print(\"-------------------------------\")\n",
        "ImagePath=config['ImagePath']\n",
        "output=model.predict(ImagePath)\n",
        "output.shape\n",
        "plt.imshow(output[0,0,:,:,32].cpu())"
      ]
    }
  ],
  "metadata": {
    "accelerator": "GPU",
    "colab": {
      "provenance": []
    },
    "gpuClass": "standard",
    "kernelspec": {
      "display_name": "Python 3",
      "language": "python",
      "name": "python3"
    },
    "language_info": {
      "codemirror_mode": {
        "name": "ipython",
        "version": 3
      },
      "file_extension": ".py",
      "mimetype": "text/x-python",
      "name": "python",
      "nbconvert_exporter": "python",
      "pygments_lexer": "ipython3",
      "version": "3.10.8"
    },
    "vscode": {
      "interpreter": {
        "hash": "a0afea46d0d16d129bf22225bbfbbd8cf932a16c65de3fc4ce3c098e8e46e679"
      }
    }
  },
  "nbformat": 4,
  "nbformat_minor": 0
}
