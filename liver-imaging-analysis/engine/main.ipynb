{
  "cells": [
    {
      "cell_type": "code",
      "execution_count": null,
      "metadata": {
        "colab": {
          "base_uri": "https://localhost:8080/"
        },
        "id": "7MqM5G59bEsX",
        "outputId": "5ef6e58b-8b5d-48b2-9560-04d31b685b02"
      },
      "outputs": [],
      "source": [
        "# from google.colab import drive\n",
        "# drive.mount('/content/drive/')"
      ]
    },
    {
      "cell_type": "code",
      "execution_count": null,
      "metadata": {
        "id": "kBaDMI4jbzih"
      },
      "outputs": [],
      "source": [
        "# import sys\n",
        "# import os\n",
        "# py_file_location = \"/content/drive/MyDrive/liver-imaging-analysis/engine\"\n",
        "# sys.path.append(os.path.abspath(py_file_location))\n",
        "# !pip install monai\n",
        "# !pip install -U scikit-image"
      ]
    },
    {
      "cell_type": "code",
      "execution_count": null,
      "metadata": {},
      "outputs": [],
      "source": [
        "# !pip install torchvision\n",
        "# !pip install torch\n",
        "# !pip install matplotlib\n",
        "# !pip install monai\n",
        "# !pip install nibabel\n",
        "# !pip install -U scikit-learn scipy matplotlib\n",
        "# !pip install -U numpy \n",
        "# !pip install tensorboard"
      ]
    },
    {
      "cell_type": "code",
      "execution_count": null,
      "metadata": {
        "colab": {
          "base_uri": "https://localhost:8080/"
        },
        "id": "aW_HEcfAb9ni",
        "outputId": "6f6f31c0-839a-43c9-d9c3-3296811201a1"
      },
      "outputs": [],
      "source": [
        "import unet\n",
        "import nibabel\n",
        "import engine\n",
        "import torch\n",
        "import json\n",
        "from torch import nn\n",
        "import diceloss\n",
        "import losses\n",
        "\n",
        "#Run on GPU if available\n",
        "device = \"cuda\" if torch.cuda.is_available() else \"cpu\"\n",
        "\n",
        "#A class that adds Engine methods to the model\n",
        "class NeuralNetwork(unet.UNet3D,engine.Engine):\n",
        "    def __init__(self):\n",
        "        engine.Engine.__init__(\n",
        "            self,\n",
        "            device=device,\n",
        "            loss=losses.DiceLoss(),\n",
        "            optimizer= config[\"training\"]['optimizer']['name'],\n",
        "            metrics=['dice_score','loss'],\n",
        "            training_data_path=config['dataset']['training'],\n",
        "            testing_data_path=config['dataset']['testing'],\n",
        "            transformation_flag=True,\n",
        "            data_size=config['transformation_size'],\n",
        "            batchsize=config[\"training\"]['batch_size'],\n",
        "            train_valid_split=0,\n",
        "        )        \n",
        "        unet.UNet3D.__init__(self,1,1,device=device)\n",
        "\n",
        "#Read configurations from JSON File\n",
        "with open('../config/configs.json') as f:\n",
        "    config = json.load(f)\n",
        "\n",
        "#Instance from the Model\n",
        "model=NeuralNetwork().to(device)\n",
        "model.optimizer_init(lr=config[\"training\"]['optimizer']['learning_rate'])\n",
        "\n",
        "#Print loss function, optimizer, and metrics\n",
        "print(\"Compile Status\")\n",
        "print(\"-------------------------------\")\n",
        "model.compile_status()\n",
        "\n",
        "#Print Dataset Shape\n",
        "print(\"\\nData Status\")\n",
        "print(\"-------------------------------\")\n",
        "model.data_status()\n",
        "\n",
        "#Load Stored Checkpoint\n",
        "# model.load_checkpoint(config['model checkpoint'])\n",
        "\n",
        "#Start Fitting\n",
        "print(\"\\nTraining\")\n",
        "print(\"-------------------------------\")\n",
        "model.fit(\n",
        "    epochs=config[\"training\"]['epochs'],\n",
        "    evaluation_set=model.test_dataloader,\n",
        "    evaluate_epochs=1,\n",
        "    visualize_epochs=1,\n",
        "    save_flag=True,\n",
        "    save_path=\"best_epoch\"\n",
        ")\n",
        "\n",
        "#Test model on testing set\n",
        "print(\"\\nTesting\")\n",
        "print(\"-------------------------------\")\n",
        "print(\"Test loss=\",model.test(model.test_dataloader))\n",
        "\n",
        "#Predict mask for a single volume\n",
        "# print(\"\\nPrediction\")\n",
        "# print(\"-------------------------------\")\n",
        "# ImagePath=config['ImagePath']\n",
        "# output=model.predict(ImagePath)\n",
        "# output.shape\n"
      ]
    },
    {
      "cell_type": "code",
      "execution_count": null,
      "metadata": {
        "colab": {
          "base_uri": "https://localhost:8080/"
        },
        "id": "xd2QCRkVcV6h",
        "outputId": "47b824da-1793-4287-b96d-6c4a5959c9a4"
      },
      "outputs": [],
      "source": [
        "model.save_checkpoint(\"TESTT\")\n",
        "import matplotlib.pyplot as plt\n",
        "plt.plot(model.totalloss)"
      ]
    },
    {
      "cell_type": "code",
      "execution_count": null,
      "metadata": {},
      "outputs": [],
      "source": [
        "model.evaluate_test()"
      ]
    },
    {
      "cell_type": "code",
      "execution_count": null,
      "metadata": {},
      "outputs": [],
      "source": [
        "#Predict mask for a single volume\n",
        "import matplotlib.pyplot as plt\n",
        "print(\"\\nPrediction\")\n",
        "print(\"-------------------------------\")\n",
        "ImagePath=config['ImagePath']\n",
        "output=model.predict(ImagePath)\n",
        "output.shape\n",
        "plt.imshow(output[0,0,:,:,32].cpu())"
      ]
    }
  ],
  "metadata": {
    "accelerator": "GPU",
    "colab": {
      "provenance": []
    },
    "gpuClass": "standard",
    "kernelspec": {
      "display_name": "Python 3",
      "language": "python",
      "name": "python3"
    },
    "language_info": {
      "codemirror_mode": {
        "name": "ipython",
        "version": 3
      },
      "file_extension": ".py",
      "mimetype": "text/x-python",
      "name": "python",
      "nbconvert_exporter": "python",
      "pygments_lexer": "ipython3",
      "version": "3.10.1 (tags/v3.10.1:2cd268a, Dec  6 2021, 19:10:37) [MSC v.1929 64 bit (AMD64)]"
    },
    "vscode": {
      "interpreter": {
        "hash": "369f2c481f4da34e4445cda3fffd2e751bd1c4d706f27375911949ba6bb62e1c"
      }
    }
  },
  "nbformat": 4,
  "nbformat_minor": 0
}
