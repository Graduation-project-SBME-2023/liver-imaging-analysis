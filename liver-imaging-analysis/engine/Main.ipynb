{
 "cells": [
  {
   "cell_type": "code",
   "execution_count": 1,
   "metadata": {},
   "outputs": [
    {
     "name": "stderr",
     "output_type": "stream",
     "text": [
      "c:\\Python310\\lib\\site-packages\\tqdm\\auto.py:22: TqdmWarning: IProgress not found. Please update jupyter and ipywidgets. See https://ipywidgets.readthedocs.io/en/stable/user_install.html\n",
      "  from .autonotebook import tqdm as notebook_tqdm\n"
     ]
    },
    {
     "name": "stdout",
     "output_type": "stream",
     "text": [
      "Compile Status\n",
      "-------------------------------\n",
      "Loss= BCEWithLogitsLoss() \n",
      "\n",
      "Optimizer= Adam (\n",
      "Parameter Group 0\n",
      "    amsgrad: False\n",
      "    betas: (0.9, 0.999)\n",
      "    capturable: False\n",
      "    eps: 1e-08\n",
      "    foreach: None\n",
      "    lr: 0.001\n",
      "    maximize: False\n",
      "    weight_decay: 0\n",
      ") \n",
      "\n",
      "Metrics= ['dice_score', 'loss'] \n",
      "\n",
      "\n",
      "Data Status\n",
      "-------------------------------\n",
      "Batch Shape of Training Features: (1, 1, 32, 32, 8) torch.float32\n",
      "Batch Shape of Training Labels: (1, 1, 32, 32, 8) torch.float32\n",
      "\n",
      "Testing\n",
      "-------------------------------\n",
      "Slice: 0/8\n",
      "Slice: 1/8\n",
      "Slice: 2/8\n",
      "Slice: 3/8\n",
      "Slice: 4/8\n",
      "Slice: 5/8\n",
      "Slice: 6/8\n",
      "Slice: 7/8\n",
      "Total Loss: 0.40991687774658203\n",
      "\n",
      "Training\n",
      "-------------------------------\n",
      "Epoch 1\n",
      "-------------------------------\n",
      "Slice: 0/8\n",
      "Slice: 1/8\n",
      "Slice: 2/8\n",
      "Slice: 3/8\n",
      "Slice: 4/8\n",
      "Slice: 5/8\n",
      "Slice: 6/8\n",
      "Slice: 7/8\n",
      "3D Loss: 0.5989708304405212\n",
      "\n",
      "Testing\n",
      "-------------------------------\n",
      "Slice: 0/8\n",
      "Slice: 1/8\n",
      "Slice: 2/8\n",
      "Slice: 3/8\n",
      "Slice: 4/8\n",
      "Slice: 5/8\n",
      "Slice: 6/8\n",
      "Slice: 7/8\n",
      "Total Loss: 0.5911693572998047\n"
     ]
    }
   ],
   "source": [
    "import unet\n",
    "import losses\n",
    "import engine\n",
    "import torch\n",
    "import json\n",
    "import unet2d \n",
    "from torch import nn\n",
    "\n",
    "\n",
    "class NeuralNetwork(unet2d.UNET,engine.Engine):\n",
    "    def __init__(self):\n",
    "        engine.Engine.__init__(self)\n",
    "        unet2d.UNET.__init__(self)\n",
    "\n",
    "\n",
    "with open('../config/configs.json') as f:\n",
    "    config = json.load(f)\n",
    "\n",
    "model=NeuralNetwork()\n",
    "model.compile(loss= nn.BCEWithLogitsLoss(), optimizer= torch.optim.Adam(model.parameters(),lr=config['optimizer']['learning_rate']), metrics=['dice_score','loss'])\n",
    "print(\"Compile Status\")\n",
    "print(\"-------------------------------\")\n",
    "model.compile_status()\n",
    "\n",
    "\n",
    "model.load_data(dataset_path=config['dataset']['Barbary'],transformation_flag=True,transformation=config['transformation_size'],batchsize=config['batch_size'],test_valid_split=0)\n",
    "print(\"\\nData Status\")\n",
    "print(\"-------------------------------\")\n",
    "model.data_status()\n",
    "\n",
    "print(\"\\nTesting\")\n",
    "print(\"-------------------------------\")\n",
    "model.evaluate_train2d() #evaluation on one input with transformation [64,256,256] took 2 minutes\n",
    "\n",
    "\n",
    "print(\"\\nTraining\")\n",
    "print(\"-------------------------------\")\n",
    "model.fit2d(epochs=config['epochs']) #one epoch on one input with transformation [64,256,256] took 7 minutes\n",
    "\n",
    "print(\"\\nTesting\")\n",
    "print(\"-------------------------------\")\n",
    "model.evaluate_train2d() #evaluation on one input with transformation [64,256,256] took 2 minutes\n"
   ]
  },
  {
   "cell_type": "code",
   "execution_count": 2,
   "metadata": {},
   "outputs": [
    {
     "name": "stdout",
     "output_type": "stream",
     "text": [
      "\n",
      "Prediction\n",
      "-------------------------------\n",
      "Slice: 0/8\n",
      "Slice: 1/8\n",
      "Slice: 2/8\n",
      "Slice: 3/8\n",
      "Slice: 4/8\n",
      "Slice: 5/8\n",
      "Slice: 6/8\n",
      "Slice: 7/8\n"
     ]
    },
    {
     "data": {
      "image/png": "[encoded data removed]",
      "text/plain": [
       "<Figure size 640x480 with 1 Axes>"
      ]
     },
     "metadata": {},
     "output_type": "display_data"
    },
    {
     "data": {
      "image/png": "[encoded data removed]",
      "text/plain": [
       "<Figure size 640x480 with 1 Axes>"
      ]
     },
     "metadata": {},
     "output_type": "display_data"
    },
    {
     "name": "stdout",
     "output_type": "stream",
     "text": [
      "(32, 32, 8) (32, 32, 8)\n",
      "2022-11-16 23:41:20,690 - Animation.save using <class 'matplotlib.animation.PillowWriter'>\n",
      "(1, 1, 1, 32, 32, 8)\n"
     ]
    },
    {
     "data": {
      "image/png": "[encoded data removed]",
      "text/plain": [
       "<Figure size 640x480 with 1 Axes>"
      ]
     },
     "metadata": {},
     "output_type": "display_data"
    }
   ],
   "source": [
    "import torch\n",
    "\n",
    "print(\"\\nPrediction\")\n",
    "print(\"-------------------------------\")\n",
    "ImagePath=config['PredictPath']\n",
    "# Image=torch.asarray(nib.load(ImagePath).get_fdata())\n",
    "output=model.pred2d(ImagePath)\n",
    "print(output.shape)"
   ]
  },
  {
   "cell_type": "code",
   "execution_count": 3,
   "metadata": {},
   "outputs": [],
   "source": [
    "import numpy as np\n",
    "import nibabel as nib\n",
    "\n",
    "ni_img = nib.Nifti1Image(np.asarray(output[0][0][0]), affine=np.eye(4))\n",
    "nib.save(ni_img, \"nifti_prediction.nii\")"
   ]
  }
 ],
 "metadata": {
  "kernelspec": {
   "display_name": "Python 3.10.1 64-bit",
   "language": "python",
   "name": "python3"
  },
  "language_info": {
   "codemirror_mode": {
    "name": "ipython",
    "version": 3
   },
   "file_extension": ".py",
   "mimetype": "text/x-python",
   "name": "python",
   "nbconvert_exporter": "python",
   "pygments_lexer": "ipython3",
   "version": "3.10.1"
  },
  "vscode": {
   "interpreter": {
    "hash": "369f2c481f4da34e4445cda3fffd2e751bd1c4d706f27375911949ba6bb62e1c"
   }
  }
 },
 "nbformat": 4,
 "nbformat_minor": 4
}
