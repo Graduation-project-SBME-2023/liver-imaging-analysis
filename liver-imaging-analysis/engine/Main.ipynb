{
 "cells": [
  {
   "cell_type": "code",
   "execution_count": 2,
   "metadata": {},
   "outputs": [
    {
     "name": "stdout",
     "output_type": "stream",
     "text": [
      "Compile Status\n",
      "-------------------------------\n",
      "Loss= DiceLoss() \n",
      "\n",
      "Optimizer= Adam (\n",
      "Parameter Group 0\n",
      "    amsgrad: False\n",
      "    betas: (0.9, 0.999)\n",
      "    capturable: False\n",
      "    differentiable: False\n",
      "    eps: 1e-08\n",
      "    foreach: None\n",
      "    fused: False\n",
      "    lr: 0.001\n",
      "    maximize: False\n",
      "    weight_decay: 0\n",
      ") \n",
      "\n",
      "Metrics= ['dice_score', 'loss'] \n",
      "\n",
      "/Users/mn3n3/Downloads/dataset\n",
      "Data Status\n",
      "-------------------------------\n"
     ]
    },
    {
     "name": "stderr",
     "output_type": "stream",
     "text": [
      "/Users/mn3n3/opt/anaconda3/envs/deeplearning/lib/python3.8/site-packages/torch/utils/data/dataset.py:342: UserWarning: Length of split at index 1 is 0. This might result in an empty dataset.\n",
      "  warnings.warn(f\"Length of split at index {i} is 0. \"\n"
     ]
    },
    {
     "name": "stdout",
     "output_type": "stream",
     "text": [
      "Batch Shape of Training Features: (1, 1, 32, 64, 64) torch.float32\n",
      "Batch Shape of Training Labels: (1, 1, 32, 64, 64) torch.float32\n",
      "Training\n",
      "-------------------------------\n",
      "Epoch 1\n",
      "-------------------------------\n",
      "loss: 1.013538        [    1/    1]\n",
      "Dice Score: -0.013538  [    1/    1]\n",
      "Testing\n",
      "-------------------------------\n",
      "loss: 0.934366\n",
      "Dice Score: 0.065634\n",
      "Prediction\n",
      "-------------------------------\n"
     ]
    },
    {
     "data": {
      "text/plain": [
       "(1, 1, 32, 64, 64)"
      ]
     },
     "execution_count": 2,
     "metadata": {},
     "output_type": "execute_result"
    }
   ],
   "source": [
    "import model_3d_unet as unet\n",
    "from loss_functions import LossFunctions\n",
    "from Engine import Engine\n",
    "import torch\n",
    "import json\n",
    "\n",
    "class NeuralNetwork(unet.UNet3D,Engine):\n",
    "    def __init__(self):\n",
    "        Engine.__init__(self)\n",
    "        unet.UNet3D.__init__(self,1,1)\n",
    "\n",
    "\n",
    "with open('/Users/mn3n3/Documents/GP/liver-imaging-analysis/liver-imaging-analysis/config/configs.json') as f:\n",
    "    config = json.load(f)\n",
    "\n",
    "Model=NeuralNetwork()\n",
    "Model.Compile(loss= LossFunctions.choose(config['loss_function']), optimizer= torch.optim.Adam(Model.parameters(),lr=config['optimizer']['learning_rate']), metrics=['dice_score','loss'])\n",
    "print(\"Compile Status\")\n",
    "print(\"-------------------------------\")\n",
    "Model.CompileStatus()\n",
    "\n",
    "\n",
    "Model.LoadData(dataset_path=config['dataset']['Mn3n3'],transformation_flag=True,transformation=[32,64,64],batchsize=config['batch_size'],test_valid_split=0)\n",
    "print(\"Data Status\")\n",
    "print(\"-------------------------------\")\n",
    "Model.DataStatus()\n",
    "\n",
    "print(\"Training\")\n",
    "print(\"-------------------------------\")\n",
    "Model.Fit(epochs=config['epochs']) #one epoch on one input with transformation [64,256,256] took 7 minutes\n",
    "print(\"Testing\")\n",
    "print(\"-------------------------------\")\n",
    "Model.Evaluate_train() #evaluation on one input with transformation [64,256,256] took 2 minutes\n",
    "\n",
    "print(\"Prediction\")\n",
    "print(\"-------------------------------\")\n",
    "ImagePath=config['ImagePath']\n",
    "output=Model.Predict(ImagePath)\n",
    "output.shape"
   ]
  },
  {
   "cell_type": "code",
   "execution_count": null,
   "metadata": {},
   "outputs": [],
   "source": []
  }
 ],
 "metadata": {
  "kernelspec": {
   "display_name": "Python 3.8.13 ('deeplearning')",
   "language": "python",
   "name": "python3"
  },
  "language_info": {
   "codemirror_mode": {
    "name": "ipython",
    "version": 3
   },
   "file_extension": ".py",
   "mimetype": "text/x-python",
   "name": "python",
   "nbconvert_exporter": "python",
   "pygments_lexer": "ipython3",
   "version": "3.8.13"
  },
  "vscode": {
   "interpreter": {
    "hash": "effaf309f10a1d761d715507d54fb4b81b6339af137f995e8e5ef90289676bc1"
   }
  }
 },
 "nbformat": 4,
 "nbformat_minor": 4
}
