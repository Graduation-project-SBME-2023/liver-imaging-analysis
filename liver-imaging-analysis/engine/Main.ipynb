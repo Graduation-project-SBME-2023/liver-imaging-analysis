{
 "cells": [
  {
   "cell_type": "code",
   "execution_count": 1,
   "metadata": {},
   "outputs": [
    {
     "name": "stderr",
     "output_type": "stream",
     "text": [
      "c:\\Python310\\lib\\site-packages\\tqdm\\auto.py:22: TqdmWarning: IProgress not found. Please update jupyter and ipywidgets. See https://ipywidgets.readthedocs.io/en/stable/user_install.html\n",
      "  from .autonotebook import tqdm as notebook_tqdm\n"
     ]
    },
    {
     "name": "stdout",
     "output_type": "stream",
     "text": [
      "Compile Status\n",
      "-------------------------------\n",
      "\n",
      "Data Status\n",
      "-------------------------------\n",
      "Batch Shape of Training Features: (1, 1, 64, 64, 64) torch.float32\n",
      "Batch Shape of Training Labels: (1, 1, 64, 64, 64) torch.float32\n",
      "\n",
      "Testing After Random Initialization\n",
      "-------------------------------\n",
      "batch: 1/5\n",
      "batch: 2/5\n",
      "batch: 3/5\n",
      "batch: 4/5\n",
      "batch: 5/5\n",
      "Total Loss: 0.6442962050437927\n",
      "\n",
      "Loading Pretrained Model\n",
      "-------------------------------\n",
      "=> Loading checkpoint\n",
      "\n",
      "Testing After Loading Pretrained Weights\n",
      "-------------------------------\n",
      "batch: 1/5\n",
      "batch: 2/5\n",
      "batch: 3/5\n",
      "batch: 4/5\n",
      "batch: 5/5\n",
      "Total Loss: 0.16834119856357574\n",
      "\n",
      "Training\n",
      "-------------------------------\n",
      "Epoch 1\n",
      "-------------------------------\n",
      "batch: 1/5\n",
      "batch: 2/5\n",
      "batch: 3/5\n",
      "batch: 4/5\n",
      "batch: 5/5\n",
      "3D Loss: 0.1162098228931427\n",
      "\n",
      "Testing After Training\n",
      "-------------------------------\n",
      "batch: 1/5\n",
      "batch: 2/5\n",
      "batch: 3/5\n",
      "batch: 4/5\n",
      "batch: 5/5\n",
      "Total Loss: 0.1271007925271988\n"
     ]
    }
   ],
   "source": [
    "import unet\n",
    "import losses\n",
    "import engine\n",
    "import torch\n",
    "import json\n",
    "import unet2d \n",
    "from torch import nn\n",
    "\n",
    "\n",
    "class NeuralNetwork(unet2d.UNET,engine.Engine):\n",
    "    def __init__(self):\n",
    "        engine.Engine.__init__(self)\n",
    "        unet2d.UNET.__init__(self)\n",
    "\n",
    "\n",
    "with open('../config/configs.json') as f:\n",
    "    config = json.load(f)\n",
    "\n",
    "model=NeuralNetwork()\n",
    "model.compile(loss= nn.BCEWithLogitsLoss(), optimizer= torch.optim.Adam(model.parameters(),lr=config['optimizer']['learning_rate']), metrics=['dice_score','loss'])\n",
    "print(\"Compile Status\")\n",
    "print(\"-------------------------------\")\n",
    "# model.compile_status()\n",
    "\n",
    "model.load_data(dataset_path=config['dataset']['Barbary'],transformation_flag=True,transformation=config['transformation_size'],batchsize=config['batch_size'],test_valid_split=0)\n",
    "print(\"\\nData Status\")\n",
    "print(\"-------------------------------\")\n",
    "model.data_status()\n",
    "\n",
    "print(\"\\nTesting After Random Initialization\")\n",
    "print(\"-------------------------------\")\n",
    "model.evaluate_train2d()\n",
    "\n",
    "print(\"\\nLoading Pretrained Model\")\n",
    "print(\"-------------------------------\")\n",
    "model.load_checkpoint(config['checkpoint'])\n",
    "\n",
    "print(\"\\nTesting After Loading Pretrained Weights\")\n",
    "print(\"-------------------------------\")\n",
    "model.evaluate_train2d()\n",
    "\n",
    "print(\"\\nTraining\")\n",
    "print(\"-------------------------------\")\n",
    "model.fit2d(epochs=config['epochs'])\n",
    "\n",
    "print(\"\\nTesting After Training\")\n",
    "print(\"-------------------------------\")\n",
    "model.evaluate_train2d()"
   ]
  },
  {
   "cell_type": "code",
   "execution_count": 6,
   "metadata": {},
   "outputs": [
    {
     "name": "stdout",
     "output_type": "stream",
     "text": [
      "\n",
      "Prediction\n",
      "-------------------------------\n",
      "batch: 1/1\n",
      "(1, 1, 1, 64, 64, 64)\n"
     ]
    }
   ],
   "source": [
    "import torch\n",
    "\n",
    "print(\"\\nPrediction\")\n",
    "print(\"-------------------------------\")\n",
    "ImagePath=config['PredictPath']\n",
    "# Image=torch.asarray(nib.load(ImagePath).get_fdata())\n",
    "output=model.pred2d(ImagePath)\n",
    "print(output.shape)"
   ]
  },
  {
   "cell_type": "code",
   "execution_count": 7,
   "metadata": {},
   "outputs": [],
   "source": [
    "import numpy as np\n",
    "import nibabel as nib\n",
    "\n",
    "ni_img = nib.Nifti1Image(np.asarray(output[0][0][0]), affine=np.eye(4))\n",
    "nib.save(ni_img, \"nifti_prediction.nii\")"
   ]
  },
  {
   "cell_type": "code",
   "execution_count": 8,
   "metadata": {},
   "outputs": [
    {
     "name": "stdout",
     "output_type": "stream",
     "text": [
      "=> Saving checkpoint\n"
     ]
    }
   ],
   "source": [
    "#if model is better uncomment this line\n",
    "# model.save_checkpoint(config['checkpoint'])"
   ]
  }
 ],
 "metadata": {
  "kernelspec": {
   "display_name": "Python 3.10.1 64-bit",
   "language": "python",
   "name": "python3"
  },
  "language_info": {
   "codemirror_mode": {
    "name": "ipython",
    "version": 3
   },
   "file_extension": ".py",
   "mimetype": "text/x-python",
   "name": "python",
   "nbconvert_exporter": "python",
   "pygments_lexer": "ipython3",
   "version": "3.10.1"
  },
  "vscode": {
   "interpreter": {
    "hash": "369f2c481f4da34e4445cda3fffd2e751bd1c4d706f27375911949ba6bb62e1c"
   }
  }
 },
 "nbformat": 4,
 "nbformat_minor": 4
}
