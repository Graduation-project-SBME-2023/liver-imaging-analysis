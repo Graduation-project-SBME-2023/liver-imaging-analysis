{
 "cells": [
  {
   "cell_type": "code",
   "execution_count": 1,
   "metadata": {},
   "outputs": [
    {
     "name": "stderr",
     "output_type": "stream",
     "text": [
      "c:\\Python310\\lib\\site-packages\\tqdm\\auto.py:22: TqdmWarning: IProgress not found. Please update jupyter and ipywidgets. See https://ipywidgets.readthedocs.io/en/stable/user_install.html\n",
      "  from .autonotebook import tqdm as notebook_tqdm\n"
     ]
    },
    {
     "name": "stdout",
     "output_type": "stream",
     "text": [
      "Compile Status\n",
      "-------------------------------\n",
      "Loss= DiceLoss() \n",
      "\n",
      "Optimizer= Adam (\n",
      "Parameter Group 0\n",
      "    amsgrad: False\n",
      "    betas: (0.9, 0.999)\n",
      "    capturable: False\n",
      "    eps: 1e-08\n",
      "    foreach: None\n",
      "    lr: 0.001\n",
      "    maximize: False\n",
      "    weight_decay: 0\n",
      ") \n",
      "\n",
      "Metrics= ['dice_score', 'loss'] \n",
      "\n",
      "C:/dataset\n",
      "Data Status\n",
      "-------------------------------\n",
      "Batch Shape of Training Features: (1, 1, 32, 64, 64) torch.float32\n",
      "Batch Shape of Training Labels: (1, 1, 32, 64, 64) torch.float32\n",
      "Training\n",
      "-------------------------------\n",
      "Epoch 1\n",
      "-------------------------------\n",
      "loss: 0.948699        [    1/    1]\n",
      "Dice Score: 0.051301  [    1/    1]\n",
      "Testing\n",
      "-------------------------------\n",
      "loss: 0.919907\n",
      "Dice Score: 0.080093\n",
      "Prediction\n",
      "-------------------------------\n"
     ]
    },
    {
     "data": {
      "text/plain": [
       "(1, 1, 32, 64, 64)"
      ]
     },
     "execution_count": 1,
     "metadata": {},
     "output_type": "execute_result"
    }
   ],
   "source": [
    "import unet\n",
    "import losses\n",
    "import engine\n",
    "import torch\n",
    "import json\n",
    "\n",
    "\n",
    "class NeuralNetwork(unet.UNet3D,engine.Engine):\n",
    "    def __init__(self):\n",
    "        engine.Engine.__init__(self)\n",
    "        unet.UNet3D.__init__(self,1,1)\n",
    "\n",
    "\n",
    "with open('../config/configs.json') as f:\n",
    "    config = json.load(f)\n",
    "\n",
    "model=NeuralNetwork()\n",
    "model.compile(loss= losses.LossFunctions.choose(config['loss_function']), optimizer= torch.optim.Adam(model.parameters(),lr=config['optimizer']['learning_rate']), metrics=['dice_score','loss'])\n",
    "print(\"Compile Status\")\n",
    "print(\"-------------------------------\")\n",
    "model.compile_status()\n",
    "\n",
    "\n",
    "model.load_data(dataset_path=config['dataset']['Barbary'],transformation_flag=True,transformation=[32,64,64],batchsize=config['batch_size'],test_valid_split=0)\n",
    "print(\"Data Status\")\n",
    "print(\"-------------------------------\")\n",
    "model.data_status()\n",
    "\n",
    "print(\"Training\")\n",
    "print(\"-------------------------------\")\n",
    "model.fit(epochs=config['epochs']) #one epoch on one input with transformation [64,256,256] took 7 minutes\n",
    "print(\"Testing\")\n",
    "print(\"-------------------------------\")\n",
    "model.evaluate_train() #evaluation on one input with transformation [64,256,256] took 2 minutes\n",
    "\n",
    "print(\"Prediction\")\n",
    "print(\"-------------------------------\")\n",
    "ImagePath=config['ImagePath']\n",
    "output=model.predict(ImagePath)\n",
    "output.shape"
   ]
  },
  {
   "cell_type": "code",
   "execution_count": null,
   "metadata": {},
   "outputs": [],
   "source": []
  }
 ],
 "metadata": {
  "kernelspec": {
   "display_name": "Python 3.10.1 64-bit",
   "language": "python",
   "name": "python3"
  },
  "language_info": {
   "codemirror_mode": {
    "name": "ipython",
    "version": 3
   },
   "file_extension": ".py",
   "mimetype": "text/x-python",
   "name": "python",
   "nbconvert_exporter": "python",
   "pygments_lexer": "ipython3",
   "version": "3.10.1"
  },
  "vscode": {
   "interpreter": {
    "hash": "369f2c481f4da34e4445cda3fffd2e751bd1c4d706f27375911949ba6bb62e1c"
   }
  }
 },
 "nbformat": 4,
 "nbformat_minor": 4
}
