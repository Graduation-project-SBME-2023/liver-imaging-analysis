{
 "cells": [
  {
   "cell_type": "code",
   "execution_count": 1,
   "metadata": {},
   "outputs": [
    {
     "name": "stderr",
     "output_type": "stream",
     "text": [
      "c:\\Python310\\lib\\site-packages\\tqdm\\auto.py:22: TqdmWarning: IProgress not found. Please update jupyter and ipywidgets. See https://ipywidgets.readthedocs.io/en/stable/user_install.html\n",
      "  from .autonotebook import tqdm as notebook_tqdm\n"
     ]
    },
    {
     "name": "stdout",
     "output_type": "stream",
     "text": [
      "Compile Status\n",
      "-------------------------------\n",
      "Loss= DiceLoss() \n",
      "\n",
      "Optimizer= Adam (\n",
      "Parameter Group 0\n",
      "    amsgrad: False\n",
      "    betas: (0.9, 0.999)\n",
      "    capturable: False\n",
      "    eps: 1e-08\n",
      "    foreach: None\n",
      "    lr: 0.001\n",
      "    maximize: False\n",
      "    weight_decay: 0\n",
      ") \n",
      "\n",
      "Metrics= ['dice_score', 'loss'] \n",
      "\n",
      "C:/dataset\n",
      "Data Status\n",
      "-------------------------------\n",
      "Batch Shape of Training Features: (1, 1, 32, 64, 64) torch.float32\n",
      "Batch Shape of Training Labels: (1, 1, 32, 64, 64) torch.float32\n",
      "Training\n",
      "-------------------------------\n",
      "Epoch 1\n",
      "-------------------------------\n"
     ]
    },
    {
     "name": "stderr",
     "output_type": "stream",
     "text": [
      "c:\\Python310\\lib\\site-packages\\torch\\nn\\functional.py:1960: UserWarning: nn.functional.sigmoid is deprecated. Use torch.sigmoid instead.\n",
      "  warnings.warn(\"nn.functional.sigmoid is deprecated. Use torch.sigmoid instead.\")\n"
     ]
    },
    {
     "name": "stdout",
     "output_type": "stream",
     "text": [
      "loss: 0.991616        [    1/    1]\n",
      "Dice Score: 0.008384  [    1/    1]\n",
      "Testing\n",
      "-------------------------------\n",
      "loss: 0.918979\n",
      "Dice Score: 0.081021\n",
      "Prediction\n",
      "-------------------------------\n"
     ]
    },
    {
     "data": {
      "text/plain": [
       "(1, 1, 32, 64, 64)"
      ]
     },
     "execution_count": 1,
     "metadata": {},
     "output_type": "execute_result"
    }
   ],
   "source": [
    "#global imports\n",
    "import torch\n",
    "#local imports\n",
    "import unet\n",
    "import losses\n",
    "import engine\n",
    "\n",
    "\n",
    "class NeuralNetwork(unet.UNet3D,engine.Engine):\n",
    "    def __init__(self):\n",
    "        engine.Engine.__init__(self)\n",
    "        unet.UNet3D.__init__(self,1,1)\n",
    "\n",
    "\n",
    "model=NeuralNetwork()\n",
    "model.compile(loss= losses.loss_function(\"DiceLoss\"), optimizer= torch.optim.Adam(model.parameters()), metrics=['dice_score','loss'])\n",
    "print(\"Compile Status\")\n",
    "print(\"-------------------------------\")\n",
    "model.compile_status()\n",
    "\n",
    "paths = {\"Barbary\":\"C:/dataset\", }\n",
    "model.load_data(paths=paths,dataset_name=\"Barbary\",transformation_flag=True,transformation=[32,64,64],batch_size=1,test_valid_split=0)\n",
    "print(\"Data Status\")\n",
    "print(\"-------------------------------\")\n",
    "model.data_status()\n",
    "\n",
    "print(\"Training\")\n",
    "print(\"-------------------------------\")\n",
    "model.fit(1) #one epoch on one input with transformation [64,256,256] took 7 minutes\n",
    "print(\"Testing\")\n",
    "print(\"-------------------------------\")\n",
    "model.evaluate_train() #evaluation on one input with transformation [64,256,256] took 2 minutes\n",
    "\n",
    "print(\"Prediction\")\n",
    "print(\"-------------------------------\")\n",
    "ImagePath=\"C:/dataset/Path/liver-orig002.nii\"\n",
    "output=model.predict(ImagePath)\n",
    "output.shape"
   ]
  }
 ],
 "metadata": {
  "kernelspec": {
   "display_name": "Python 3.10.1 64-bit",
   "language": "python",
   "name": "python3"
  },
  "language_info": {
   "codemirror_mode": {
    "name": "ipython",
    "version": 3
   },
   "file_extension": ".py",
   "mimetype": "text/x-python",
   "name": "python",
   "nbconvert_exporter": "python",
   "pygments_lexer": "ipython3",
   "version": "3.10.1"
  },
  "vscode": {
   "interpreter": {
    "hash": "369f2c481f4da34e4445cda3fffd2e751bd1c4d706f27375911949ba6bb62e1c"
   }
  }
 },
 "nbformat": 4,
 "nbformat_minor": 4
}
