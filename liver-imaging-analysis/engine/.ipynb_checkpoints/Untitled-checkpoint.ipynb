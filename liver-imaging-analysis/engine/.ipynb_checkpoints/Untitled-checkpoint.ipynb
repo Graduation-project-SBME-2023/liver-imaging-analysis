{
 "cells": [
  {
   "cell_type": "code",
   "execution_count": null,
   "metadata": {},
   "outputs": [],
   "source": [
    "import model_3d_unet as unet\n",
    "import loss_functions as losses\n",
    "from Engine import Engine\n",
    "import torch\n",
    "\n",
    "class NeuralNetwork(unet.UNet3D,Engine):\n",
    "    def __init__(self):\n",
    "        Engine.__init__(self)\n",
    "        unet.UNet3D.__init__(self,1,1)\n",
    "\n",
    "\n",
    "Model=NeuralNetwork()\n",
    "Model.Compile(loss= losses.loss_function(\"DiceLoss\"), optimizer= torch.optim.Adam(Model.parameters()), metrics=['dice_score','loss'])\n",
    "Model.CompileStatus()\n",
    "\n",
    "Paths = {\"Barbary\":\"C:/dataset\", }\n",
    "Model.LoadData(Paths=Paths,dataset_name=\"Barbary\",transformation_flag=True,transformation=[32,64,64],batchsize=1,test_valid_split=0)\n",
    "Model.DataStatus()\n",
    "\n",
    "Model.Fit(1) #one epoch on one input with transformation [64,256,256] took 7 minutes\n",
    "Model.Evaluate_train() #evaluation on one input with transformation [64,256,256] took 2 minutes\n",
    "\n",
    "\n",
    "ImagePath=\"C:/dataset/Path/liver-orig002.nii\"\n",
    "output=Model.Predict(ImagePath)\n",
    "output.shape"
   ]
  }
 ],
 "metadata": {
  "kernelspec": {
   "display_name": "Python 3",
   "language": "python",
   "name": "python3"
  },
  "language_info": {
   "codemirror_mode": {
    "name": "ipython",
    "version": 3
   },
   "file_extension": ".py",
   "mimetype": "text/x-python",
   "name": "python",
   "nbconvert_exporter": "python",
   "pygments_lexer": "ipython3",
   "version": "3.8.5"
  }
 },
 "nbformat": 4,
 "nbformat_minor": 4
}
