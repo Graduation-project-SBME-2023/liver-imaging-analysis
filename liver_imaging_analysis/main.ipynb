{
  "cells": [
    {
      "cell_type": "code",
      "execution_count": null,
      "metadata": {
        "id": "OXTitbzJ_Xyb"
      },
      "outputs": [],
      "source": [
        "import sys\n",
        "import ipyvolume as ipv\n",
        "import torch\n",
        "import numpy as np\n",
        "import pydataman as pd\n",
        "import torch\n",
        "import os\n",
        "import monai.losses\n",
        "from monai.transforms import (Resize,EnsureChannelFirst, Compose)\n",
        "sys.path.append(\"/Users/mn3n3/Documents/GP/liver-imaging-analysis/liver_imaging_analysis/engine\")\n",
        "sys.path.append(\"/Users/mn3n3/Documents/GP/liver-imaging-analysis/liver_imaging_analysis/models\")\n",
        "from engine import set_seed\n",
        "import SimpleITK as sitk\n",
        "from axial_2d import AxialSegmentation2D\n",
        "from sagittal_2d import SagittalSegmentation2D\n",
        "from coronal_2d import CoronalSegmentation2D\n",
        "from views_segmentation import ViewSegmentation\n",
        "from monai.transforms import Resize\n",
        "from utils import nii2png_XYZ\n",
        "import shutil\n",
        "set_seed()"
      ]
    },
    {
      "cell_type": "code",
      "execution_count": null,
      "metadata": {},
      "outputs": [],
      "source": [
        "volume_nii_path = \"/Users/mn3n3/Documents/GP/Datasets/volume/volume-0.nii\"\n",
        "voting_techniuqe = ViewSegmentation()\n",
        "voting_techniuqe.slice(volume_nii_path)\n",
        "volume_3d = voting_techniuqe.get_segmentation()\n",
        "voting_techniuqe.delete_temp_slices()"
      ]
    },
    {
      "cell_type": "code",
      "execution_count": null,
      "metadata": {},
      "outputs": [],
      "source": [
        "ipv.quickvolshow(volume_3d)"
      ]
    },
    {
      "cell_type": "code",
      "execution_count": null,
      "metadata": {},
      "outputs": [],
      "source": [
        "mask_path = \"/Users/mn3n3/Documents/GP/Datasets/mask/segmentation-0.nii\"\n",
        "img_mask = sitk.ReadImage(mask_path)\n",
        "img_mask_array = sitk.GetArrayFromImage(img_mask)\n",
        "mask_tensor = torch.from_numpy(img_mask_array)\n",
        "mask_tensor[mask_tensor > 1] = 1  # ignore the lesions"
      ]
    },
    {
      "cell_type": "code",
      "execution_count": null,
      "metadata": {},
      "outputs": [],
      "source": [
        "dice_loss = monai.losses.DiceLoss(include_background=True)\n",
        "loss = dice_loss(volume_3d, mask_tensor)\n",
        "print(loss.item())"
      ]
    }
  ],
  "metadata": {
    "accelerator": "GPU",
    "colab": {
      "provenance": []
    },
    "gpuClass": "standard",
    "kernelspec": {
      "display_name": "Python 3",
      "language": "python",
      "name": "python3"
    },
    "language_info": {
      "codemirror_mode": {
        "name": "ipython",
        "version": 3
      },
      "file_extension": ".py",
      "mimetype": "text/x-python",
      "name": "python",
      "nbconvert_exporter": "python",
      "pygments_lexer": "ipython3",
      "version": "3.10.8"
    },
    "vscode": {
      "interpreter": {
        "hash": "60f38b465b4ade997603fa1c81d4c5b7ecf3a62a523ec595fe3d6f4efcae3a4f"
      }
    }
  },
  "nbformat": 4,
  "nbformat_minor": 0
}
